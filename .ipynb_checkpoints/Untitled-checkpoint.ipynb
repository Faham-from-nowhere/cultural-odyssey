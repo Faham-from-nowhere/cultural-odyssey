{
 "cells": [
  {
   "cell_type": "code",
   "execution_count": 4,
   "id": "5c4ecfd4-2a85-4d7e-b386-717ea6c9a1c4",
   "metadata": {},
   "outputs": [
    {
     "name": "stdout",
     "output_type": "stream",
     "text": [
      "Preprocessing Complete. Cleaned CSVs are saved.\n"
     ]
    },
    {
     "name": "stderr",
     "output_type": "stream",
     "text": [
      "C:\\Users\\mohdf\\AppData\\Local\\Temp\\ipykernel_16228\\2070401100.py:13: FutureWarning: Setting an item of incompatible dtype is deprecated and will raise an error in a future version of pandas. Value 'Unknown' has dtype incompatible with float64, please explicitly cast to a compatible dtype first.\n",
      "  df.fillna('Unknown', inplace=True)\n"
     ]
    }
   ],
   "source": [
    "import pandas as pd\n",
    "\n",
    "# Load your datasets\n",
    "cultural_hotspots = pd.read_csv('Top Indian Places to Visit.csv')\n",
    "tourism_footfall = pd.read_csv('India-Tourism-Statistics-2021-Table-5.1.2_0.csv')\n",
    "\n",
    "# Preprocessing Function\n",
    "def preprocess_data(df):\n",
    "    # Ensure column names are strings\n",
    "    df.columns = df.columns.astype(str)\n",
    "    \n",
    "    # Handle missing values\n",
    "    df.fillna('Unknown', inplace=True)\n",
    "    \n",
    "    # Normalize column names\n",
    "    df.columns = df.columns.str.strip().str.lower().str.replace(' ', '_')\n",
    "    \n",
    "    # Convert date columns to datetime format if available\n",
    "    for col in df.columns:\n",
    "        if 'date' in col:\n",
    "            df[col] = pd.to_datetime(df[col], errors='coerce')\n",
    "    \n",
    "    return df\n",
    "\n",
    "# Preprocess datasets\n",
    "cultural_hotspots = preprocess_data(cultural_hotspots)\n",
    "tourism_footfall = preprocess_data(tourism_footfall)\n",
    "\n",
    "# Save cleaned data\n",
    "cultural_hotspots.to_csv('cleaned_cultural_hotspots.csv', index=False)\n",
    "tourism_footfall.to_csv('cleaned_tourism_footfall.csv', index=False)\n",
    "gov_initiatives.to_csv('cleaned_gov_initiatives.csv', index=False)\n",
    "\n",
    "print(\"Preprocessing Complete. Cleaned CSVs are saved.\")\n"
   ]
  },
  {
   "cell_type": "code",
   "execution_count": 11,
   "id": "c08d4ac0-48c3-474b-94a9-f698da054631",
   "metadata": {},
   "outputs": [
    {
     "name": "stdout",
     "output_type": "stream",
     "text": [
      "Executing create table query:\n",
      "\n",
      "    CREATE OR REPLACE TABLE CULTURAL_HOTSPOTS (\n",
      "        \"unnamed:_0\" VARCHAR, \"zone\" VARCHAR, \"state\" VARCHAR, \"city\" VARCHAR, \"name\" VARCHAR, \"type\" VARCHAR, \"establishment_year\" VARCHAR, \"time_needed_to_visit_in_hrs\" VARCHAR, \"google_review_rating\" VARCHAR, \"entrance_fee_in_inr\" VARCHAR, \"airport_with_50km_radius\" VARCHAR, \"weekly_off\" VARCHAR, \"significance\" VARCHAR, \"dslr_allowed\" VARCHAR, \"number_of_google_review_in_lakhs\" VARCHAR, \"best_time_to_visit\" VARCHAR\n",
      "    )\n",
      "    \n",
      "Table CULTURAL_HOTSPOTS created successfully.\n",
      "Executing create table query:\n",
      "\n",
      "    CREATE OR REPLACE TABLE TOURISM_FOOTFALL (\n",
      "        \"s._no.\" VARCHAR, \"states/uts_*\" VARCHAR, \"domestic_-2019\" VARCHAR, \"foreign_-_2019\" VARCHAR, \"domestic_-2020\" VARCHAR, \"foreign_-_2020\" VARCHAR, \"growth_rate_-_dtv__2020/19\" VARCHAR, \"growth_rate_-_ftv_2020/19\" VARCHAR\n",
      "    )\n",
      "    \n",
      "Table TOURISM_FOOTFALL created successfully.\n",
      "CULTURAL_HOTSPOTS shape: (325, 16)\n",
      "TOURISM_FOOTFALL shape: (40, 8)\n",
      "Total Records in CULTURAL_HOTSPOTS: 0\n",
      "Total Records in TOURISM_FOOTFALL: 0\n",
      "Snowflake connection closed.\n"
     ]
    }
   ],
   "source": [
    "import pandas as pd\n",
    "from snowflake.connector import connect\n",
    "\n",
    "# Load the cleaned datasets\n",
    "cultural_hotspots = pd.read_csv('cleaned_cultural_hotspots.csv')\n",
    "tourism_footfall = pd.read_csv('cleaned_tourism_footfall.csv')\n",
    "\n",
    "\n",
    "# Step 1: Snowflake Connection Setup\n",
    "conn = connect(\n",
    "    user='FAHAM2005',\n",
    "    password='fKrx99Ejj3ZrEAd',\n",
    "    account='DPNFGOL-FS07172',  # Your Snowflake account identifier\n",
    "    warehouse='BOB',\n",
    "    database='CULTURAL_ODYSSEY',\n",
    "    schema='PUBLIC'\n",
    ")\n",
    "\n",
    "cursor = conn.cursor()\n",
    "\n",
    "# Step 2: Create Tables in Snowflake\n",
    "tables = {\n",
    "    'CULTURAL_HOTSPOTS': cultural_hotspots,\n",
    "    'TOURISM_FOOTFALL': tourism_footfall\n",
    "}\n",
    "\n",
    "for table_name, dataframe in tables.items():\n",
    "    # Properly quote column names\n",
    "    columns = ', '.join([f'\"{col}\" VARCHAR' for col in dataframe.columns])\n",
    "    \n",
    "    create_table_query = f\"\"\"\n",
    "    CREATE OR REPLACE TABLE {table_name} (\n",
    "        {columns}\n",
    "    )\n",
    "    \"\"\"\n",
    "    print(\"Executing create table query:\")\n",
    "    print(create_table_query)\n",
    "    cursor.execute(create_table_query)\n",
    "    print(f\"Table {table_name} created successfully.\")\n",
    "print(f\"CULTURAL_HOTSPOTS shape: {cultural_hotspots.shape}\")\n",
    "print(f\"TOURISM_FOOTFALL shape: {tourism_footfall.shape}\")\n",
    "\n",
    "# Step 3: Insert Data into Snowflake\n",
    "def insert_data_to_snowflake(table_name, dataframe):\n",
    "    cols = ', '.join(dataframe.columns)\n",
    "    values = ', '.join(['%s'] * len(dataframe.columns))\n",
    "    insert_query = f\"INSERT INTO {table_name} ({cols}) VALUES ({values})\"\n",
    "    \n",
    "    for _, row in dataframe.iterrows():\n",
    "        cursor.execute(insert_query, tuple(row))\n",
    "\n",
    "def insert_data_to_snowflake(table_name, dataframe):\n",
    "    cols = ', '.join([f'\"{col}\"' for col in dataframe.columns])\n",
    "    values = ', '.join(['%s'] * len(dataframe.columns))\n",
    "    insert_query = f\"INSERT INTO {table_name} ({cols}) VALUES ({values})\"\n",
    "    \n",
    "    for idx, row in dataframe.iterrows():\n",
    "        try:\n",
    "            cursor.execute(insert_query, tuple(row))\n",
    "        except Exception as e:\n",
    "            print(f\"Error inserting row {idx}: {e}\")\n",
    "    cursor.connection.commit()\n",
    "    conn.commit()\n",
    "\n",
    "# Step 4: Verification Queries\n",
    "cursor.execute(\"SELECT COUNT(*) FROM CULTURAL_HOTSPOTS\")\n",
    "print(f\"Total Records in CULTURAL_HOTSPOTS: {cursor.fetchone()[0]}\")\n",
    "\n",
    "cursor.execute(\"SELECT COUNT(*) FROM TOURISM_FOOTFALL\")\n",
    "print(f\"Total Records in TOURISM_FOOTFALL: {cursor.fetchone()[0]}\")\n",
    "\n",
    "# Step 5: Close Connection\n",
    "cursor.close()\n",
    "conn.close()\n",
    "print(\"Snowflake connection closed.\")\n"
   ]
  },
  {
   "cell_type": "code",
   "execution_count": 13,
   "id": "54812958-3f6c-4050-9f5c-5df11b1d8d84",
   "metadata": {
    "scrolled": true
   },
   "outputs": [
    {
     "name": "stdout",
     "output_type": "stream",
     "text": [
      "Total Records in CULTURAL_HOTSPOTS: 325\n",
      "Total Records in TOURISM_FOOTFALL: 40\n",
      "('0', 'Northern', 'Delhi', 'Delhi', 'India Gate', 'War Memorial', '1921', '0.5', '4.6', '0', 'Yes', 'Unknown', 'Historical', 'Yes', '2.6', 'Evening')\n",
      "('1', 'Northern', 'Delhi', 'Delhi', \"Humayun's Tomb\", 'Tomb', '1572', '2.0', '4.5', '30', 'Yes', 'Unknown', 'Historical', 'Yes', '0.4', 'Afternoon')\n",
      "('2', 'Northern', 'Delhi', 'Delhi', 'Akshardham Temple', 'Temple', '2005', '5.0', '4.6', '60', 'Yes', 'Unknown', 'Religious', 'No', '0.4', 'Afternoon')\n",
      "('3', 'Northern', 'Delhi', 'Delhi', 'Waste to Wonder Park', 'Theme Park', '2019', '2.0', '4.1', '50', 'Yes', 'Monday', 'Environmental', 'Yes', '0.27', 'Evening')\n",
      "('4', 'Northern', 'Delhi', 'Delhi', 'Jantar Mantar', 'Observatory', '1724', '2.0', '4.2', '15', 'Yes', 'Unknown', 'Scientific', 'Yes', '0.31', 'Morning')\n"
     ]
    }
   ],
   "source": [
    "# Step 1: Snowflake Connection Setup\n",
    "conn = connect(\n",
    "    user='FAHAM2005',\n",
    "    password='fKrx99Ejj3ZrEAd',\n",
    "    account='DPNFGOL-FS07172',  # Your Snowflake account identifier\n",
    "    warehouse='BOB',\n",
    "    database='CULTURAL_ODYSSEY',\n",
    "    schema='PUBLIC'\n",
    ")\n",
    "\n",
    "cursor = conn.cursor()\n",
    "cursor.execute(\"SELECT COUNT(*) FROM CULTURAL_HOTSPOTS\")\n",
    "print(f\"Total Records in CULTURAL_HOTSPOTS: {cursor.fetchone()[0]}\")\n",
    "\n",
    "cursor.execute(\"SELECT COUNT(*) FROM TOURISM_FOOTFALL\")\n",
    "print(f\"Total Records in TOURISM_FOOTFALL: {cursor.fetchone()[0]}\")\n",
    "\n",
    "# Example: preview first 5 rows\n",
    "cursor.execute(\"SELECT * FROM CULTURAL_HOTSPOTS LIMIT 5\")\n",
    "for row in cursor.fetchall():\n",
    "    print(row)\n"
   ]
  },
  {
   "cell_type": "code",
   "execution_count": null,
   "id": "0743cc52-f883-4c38-bf69-a95cc6596a39",
   "metadata": {},
   "outputs": [],
   "source": []
  }
 ],
 "metadata": {
  "kernelspec": {
   "display_name": "Python 3 (ipykernel)",
   "language": "python",
   "name": "python3"
  },
  "language_info": {
   "codemirror_mode": {
    "name": "ipython",
    "version": 3
   },
   "file_extension": ".py",
   "mimetype": "text/x-python",
   "name": "python",
   "nbconvert_exporter": "python",
   "pygments_lexer": "ipython3",
   "version": "3.12.6"
  }
 },
 "nbformat": 4,
 "nbformat_minor": 5
}
